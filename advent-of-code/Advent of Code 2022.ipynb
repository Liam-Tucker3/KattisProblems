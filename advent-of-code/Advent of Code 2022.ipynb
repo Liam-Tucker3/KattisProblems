{
 "cells": [
  {
   "cell_type": "markdown",
   "id": "df824f5c",
   "metadata": {},
   "source": [
    "# Day 1"
   ]
  },
  {
   "cell_type": "code",
   "execution_count": 7,
   "id": "cb5d0b19",
   "metadata": {},
   "outputs": [
    {
     "name": "stdout",
     "output_type": "stream",
     "text": [
      "67658\n"
     ]
    }
   ],
   "source": [
    "# Part 1\n",
    "\n",
    "'''\n",
    "Idea: store value of current maximum calories for any elf. Traverse list, count number of calories per elf.\n",
    "Update current maximum as needed\n",
    "'''\n",
    "def getMaxCalories(filename):\n",
    "    data = open(filename, 'r')\n",
    "    currCount = 0\n",
    "    maxCount = 0\n",
    "    \n",
    "    while(1):\n",
    "        line = data.readline()\n",
    "        if not line: # End of file\n",
    "            maxCount = max(maxCount, currCount)\n",
    "            currCount = 0\n",
    "            return maxCount\n",
    "            break\n",
    "        elif line == \"\\n\": #End of elf\n",
    "            maxCount = max(maxCount, currCount)\n",
    "            currCount = 0\n",
    "        else: #Line contains calories\n",
    "            currCount += int(line)\n",
    "            \n",
    "print(getMaxCalories('day01.txt'))            \n"
   ]
  },
  {
   "cell_type": "code",
   "execution_count": 5,
   "id": "4778fe56",
   "metadata": {},
   "outputs": [
    {
     "name": "stdout",
     "output_type": "stream",
     "text": [
      "200158\n"
     ]
    }
   ],
   "source": [
    "# Part 2\n",
    "'''\n",
    "Idea: Modify part 2 code to store array of top 3 highest calorie amounts\n",
    "'''\n",
    "# Assume arr has length 3\n",
    "def updateCalorieArray(arr, currCount):\n",
    "    if currCount < arr[2]: \n",
    "        return arr\n",
    "    elif currCount < arr[1]:\n",
    "        arr[2] = currCount\n",
    "        return arr\n",
    "    elif currCount < arr[0]:\n",
    "        arr[2] = arr[1]\n",
    "        arr[1] = currCount\n",
    "        return arr\n",
    "    else:\n",
    "        arr[2] = arr[1]\n",
    "        arr[1] = arr[0]\n",
    "        arr[0] = currCount\n",
    "        return arr\n",
    "\n",
    "def getMax3Calories(filename):\n",
    "    data = open(filename, 'r')\n",
    "    currCount = 0\n",
    "    maxArr = [0, 0, 0]\n",
    "    \n",
    "    while(1):\n",
    "        line = data.readline()\n",
    "        if not line: # End of file\n",
    "            maxArr = updateCalorieArray(maxArr, currCount)\n",
    "            currCount = 0\n",
    "            return maxArr[0] + maxArr[1] + maxArr[2]\n",
    "            break\n",
    "        elif line == \"\\n\": #End of elf\n",
    "            maxArr = updateCalorieArray(maxArr, currCount)\n",
    "            currCount = 0\n",
    "        else: #Line contains calories\n",
    "            currCount += int(line)\n",
    "            \n",
    "print(getMax3Calories('day01.txt')) "
   ]
  },
  {
   "cell_type": "markdown",
   "id": "523a26d2",
   "metadata": {},
   "source": [
    "# Day 2"
   ]
  },
  {
   "cell_type": "code",
   "execution_count": 10,
   "id": "13a1b8e9",
   "metadata": {},
   "outputs": [
    {
     "name": "stdout",
     "output_type": "stream",
     "text": [
      "14827\n"
     ]
    }
   ],
   "source": [
    "# Part 2\n",
    "'''\n",
    "Idea: Traverse through list of matchups, adding count of eatch matchup to dict\n",
    "Afterwards, multiply count of each matchup by matchup score\n",
    "                Matchup Matrix:\n",
    "\n",
    "                    Your Move\n",
    "                    X   Y   Z\n",
    "                A   4   8   3\n",
    "Their move      B   1   5   9\n",
    "                C   7   2   6\n",
    "\n",
    "'''\n",
    "def calculateScore(scores, matchups):\n",
    "    score = 0\n",
    "    for key in scores.keys():\n",
    "        score = score + matchups[key] * scores[key]\n",
    "    return score\n",
    "\n",
    "def getScoreFromMatchups(filename):\n",
    "    data = open(filename, 'r')\n",
    "    scoreMatrix = {\n",
    "        'A X\\n': 4,\n",
    "        'B X\\n': 1,\n",
    "        'C X\\n': 7,\n",
    "        'A Y\\n': 8,\n",
    "        'B Y\\n': 5,\n",
    "        'C Y\\n': 2,\n",
    "        'A Z\\n': 3,\n",
    "        'B Z\\n': 9,\n",
    "        'C Z\\n': 6\n",
    "    }\n",
    "    matchupCount = {\n",
    "        'A X\\n': 0,\n",
    "        'B X\\n': 0,\n",
    "        'C X\\n': 0,\n",
    "        'A Y\\n': 0,\n",
    "        'B Y\\n': 0,\n",
    "        'C Y\\n': 0,\n",
    "        'A Z\\n': 0,\n",
    "        'B Z\\n': 0,\n",
    "        'C Z\\n': 0\n",
    "    }\n",
    "    \n",
    "    \n",
    "    while(1):\n",
    "        line = data.readline()\n",
    "        if not line: # End of file\n",
    "            break\n",
    "        matchupCount[line] = matchupCount[line] + 1\n",
    "        \n",
    "    totalScore = calculateScore(scoreMatrix, matchupCount)\n",
    "    print(totalScore)\n",
    "\n",
    "        \n",
    "getScoreFromMatchups('day02.txt')"
   ]
  },
  {
   "cell_type": "code",
   "execution_count": 11,
   "id": "a429446a",
   "metadata": {},
   "outputs": [
    {
     "name": "stdout",
     "output_type": "stream",
     "text": [
      "13889\n"
     ]
    }
   ],
   "source": [
    "# Part 2\n",
    "\n",
    "'''\n",
    "Idea: Same as before, but now we have a different score matrix\n",
    "\n",
    "                Matchup matrix:\n",
    "\n",
    "                    Your Move\n",
    "                    X   Y   Z\n",
    "                A   3   4   8\n",
    "Their move      B   1   5   9\n",
    "                C   2   6   7\n",
    "\n",
    "\n",
    "'''\n",
    "\n",
    "def calculateScore(scores, matchups):\n",
    "    score = 0\n",
    "    for key in scores.keys():\n",
    "        score = score + matchups[key] * scores[key]\n",
    "    return score\n",
    "\n",
    "def getScoreFromMatchups(filename):\n",
    "    data = open(filename, 'r')\n",
    "    scoreMatrix = {\n",
    "        'A X\\n': 3,\n",
    "        'B X\\n': 1,\n",
    "        'C X\\n': 2,\n",
    "        'A Y\\n': 4,\n",
    "        'B Y\\n': 5,\n",
    "        'C Y\\n': 6,\n",
    "        'A Z\\n': 8,\n",
    "        'B Z\\n': 9,\n",
    "        'C Z\\n': 7\n",
    "    }\n",
    "    matchupCount = {\n",
    "        'A X\\n': 0,\n",
    "        'B X\\n': 0,\n",
    "        'C X\\n': 0,\n",
    "        'A Y\\n': 0,\n",
    "        'B Y\\n': 0,\n",
    "        'C Y\\n': 0,\n",
    "        'A Z\\n': 0,\n",
    "        'B Z\\n': 0,\n",
    "        'C Z\\n': 0\n",
    "    }\n",
    "    \n",
    "    \n",
    "    while(1):\n",
    "        line = data.readline()\n",
    "        if not line: # End of file\n",
    "            break\n",
    "        matchupCount[line] = matchupCount[line] + 1\n",
    "        \n",
    "    totalScore = calculateScore(scoreMatrix, matchupCount)\n",
    "    print(totalScore)\n",
    "\n",
    "        \n",
    "getScoreFromMatchups('day02.txt')"
   ]
  },
  {
   "cell_type": "markdown",
   "id": "3f74e98b",
   "metadata": {},
   "source": [
    "# Day 3"
   ]
  },
  {
   "cell_type": "code",
   "execution_count": 40,
   "id": "fa157573",
   "metadata": {},
   "outputs": [
    {
     "name": "stdout",
     "output_type": "stream",
     "text": [
      "7793\n"
     ]
    }
   ],
   "source": [
    "# Part 1\n",
    "'''\n",
    "Idea: read the string, split it into a list, split it into two lists, convert to two sets, then find their union\n",
    "Take advantage of ASCII for calculating priority\n",
    "'''\n",
    "def getPriority(ch):\n",
    "    if ch.isupper():\n",
    "        return ord(ch) - 38\n",
    "    return ord(ch) - 96\n",
    "\n",
    "def findItem(filename):\n",
    "    data = open(filename, 'r')\n",
    "    totalPriority = 0\n",
    "    \n",
    "    while(1):\n",
    "        line = data.readline()\n",
    "        if not line: # End of file\n",
    "            return totalPriority\n",
    "        chars = [x for x in line]\n",
    "        midIndex = len(chars) // 2\n",
    "        left = set(chars[:midIndex])\n",
    "        right = set(chars[midIndex:])\n",
    "        both = left.intersection(right)\n",
    "\n",
    "        for dup in both:\n",
    "            totalPriority += getPriority(dup)\n",
    "    \n",
    "print(findItem('day03.txt'))\n",
    "        "
   ]
  },
  {
   "cell_type": "code",
   "execution_count": 46,
   "id": "a1643b74",
   "metadata": {},
   "outputs": [
    {
     "name": "stdout",
     "output_type": "stream",
     "text": [
      "2499\n"
     ]
    }
   ],
   "source": [
    "# Part 2\n",
    "'''\n",
    "Idea: Same as part 1, but instead of taking union of two parts of one line, take union of lines in groups of 3\n",
    "'''\n",
    "def getPriority(ch):\n",
    "    if ch.isupper():\n",
    "        return ord(ch) - 38\n",
    "    if ch.islower():\n",
    "        return ord(ch) - 96\n",
    "    return 0 # For case of line feed, end line, etc\n",
    "\n",
    "def findBadge(filename):\n",
    "    data = open(filename, 'r')\n",
    "    totalPriority = 0\n",
    "    \n",
    "    while(1):\n",
    "        line1 = data.readline()\n",
    "        if not line1: # End of file\n",
    "            return totalPriority\n",
    "        line2 = data.readline()\n",
    "        line3 = data.readline()\n",
    "        \n",
    "        # Splitting all lines into char arrays\n",
    "        chars1 = set([x for x in line1])\n",
    "        chars2 = set([x for x in line2])\n",
    "        chars3 = set([x for x in line3])\n",
    "\n",
    "        badge = chars1.intersection(chars2).intersection(chars3)\n",
    "\n",
    "        for b in badge:\n",
    "            # print(b, getPriority(b))\n",
    "            totalPriority += getPriority(b)\n",
    "    \n",
    "print(findBadge('day03.txt'))"
   ]
  },
  {
   "cell_type": "markdown",
   "id": "c541badb",
   "metadata": {},
   "source": [
    "# Day 4"
   ]
  },
  {
   "cell_type": "code",
   "execution_count": 56,
   "id": "a2265581",
   "metadata": {},
   "outputs": [
    {
     "data": {
      "text/plain": [
       "651"
      ]
     },
     "execution_count": 56,
     "metadata": {},
     "output_type": "execute_result"
    }
   ],
   "source": [
    "# Part 1\n",
    "'''\n",
    "Idea: Get the four numbers W-X, Y-Z. One pair fully contains the other unless the W<Y and X<Z or W>Y and Z>X\n",
    "'''\n",
    "def getNums(str):\n",
    "    halves = str.split(',')\n",
    "    quarters = []\n",
    "    for i in range(len(halves)):\n",
    "        quarters += halves[i].split('-')\n",
    "    for i in range(len(quarters)):\n",
    "        quarters[i] = int(quarters[i].strip())\n",
    "    return quarters\n",
    "    \n",
    "def findFullyContains(filename):\n",
    "    data = open(filename, 'r')\n",
    "    fullyContainsCount = 0\n",
    "    \n",
    "    while(1):\n",
    "        line = data.readline()\n",
    "        if not line: # End of file\n",
    "            return fullyContainsCount\n",
    "        values = getNums(line)\n",
    "        if not (values[1] < values[3] and values[0] < values[2] or values[1] > values[3] and values[0] > values[2]):\n",
    "            fullyContainsCount += 1\n",
    "    \n",
    "findFullyContains('day04.txt')"
   ]
  },
  {
   "cell_type": "code",
   "execution_count": 57,
   "id": "1ae96c6e",
   "metadata": {},
   "outputs": [
    {
     "data": {
      "text/plain": [
       "956"
      ]
     },
     "execution_count": 57,
     "metadata": {},
     "output_type": "execute_result"
    }
   ],
   "source": [
    "# Part 2\n",
    "'''\n",
    "Idea: same as part 1, but with a simpler comparison\n",
    "'''\n",
    "def getNums(str):\n",
    "    halves = str.split(',')\n",
    "    quarters = []\n",
    "    for i in range(len(halves)):\n",
    "        quarters += halves[i].split('-')\n",
    "    for i in range(len(quarters)):\n",
    "        quarters[i] = int(quarters[i].strip())\n",
    "    return quarters\n",
    "    \n",
    "def findPartlyContains(filename):\n",
    "    data = open(filename, 'r')\n",
    "    fullyContainsCount = 0\n",
    "    \n",
    "    while(1):\n",
    "        line = data.readline()\n",
    "        if not line: # End of file\n",
    "            return fullyContainsCount\n",
    "        values = getNums(line)\n",
    "        if not (values[0] > values[3] or values[1] < values[2]):\n",
    "            fullyContainsCount += 1\n",
    "    \n",
    "findPartlyContains('day04.txt')"
   ]
  },
  {
   "cell_type": "markdown",
   "id": "23ed1367",
   "metadata": {},
   "source": [
    "# Day 5"
   ]
  },
  {
   "cell_type": "code",
   "execution_count": 9,
   "id": "92241955",
   "metadata": {},
   "outputs": [
    {
     "name": "stdout",
     "output_type": "stream",
     "text": [
      "SPFMVDTZT\n"
     ]
    }
   ],
   "source": [
    "# Part 1\n",
    "'''\n",
    "Idea: use stacks (lists but only use pop, append)\n",
    "'''\n",
    "\n",
    "def getStacks(setupLines):\n",
    "    stacks = []\n",
    "    for i in range(len(setupLines)):\n",
    "        thisLine = setupLines[len(setupLines) - 1 - i]\n",
    "        assert len(thisLine) % 4 == 0\n",
    "        for j in range(len(setupLines) + 1 // 4):\n",
    "            if i == 0:\n",
    "                stacks.append([])\n",
    "            elif (thisLine[4*j+1] != \" \"): stacks[j].append(thisLine[4*j+1])\n",
    "    return stacks\n",
    "            \n",
    "def getString(stacks):\n",
    "    outputStr = \"\"\n",
    "    for i in range(len(stacks)):\n",
    "        outputStr += stacks[i].pop()\n",
    "    return outputStr\n",
    "\n",
    "def readData(filename):\n",
    "    data = open(filename, 'r')\n",
    "    setupLines = []\n",
    "    \n",
    "    stacks = 0\n",
    "    \n",
    "    # Reading setup data\n",
    "    while(1):\n",
    "        line = data.readline()\n",
    "        # print(line)\n",
    "        if line[:4] == \"\\n\":\n",
    "            stacks = getStacks(setupLines)\n",
    "            break\n",
    "        else:\n",
    "            setupLines.append(line)\n",
    "    \n",
    "    # Reading, executing commands\n",
    "    assert stacks != 0\n",
    "    while (1):\n",
    "        line = data.readline()\n",
    "        if not line: # End of file\n",
    "            print(getString(stacks))\n",
    "            return\n",
    "        parts = line.split()\n",
    "        num = parts[1]\n",
    "        source = parts[3]\n",
    "        dest = parts[5]\n",
    "        for i in range(int(num)):\n",
    "            stacks[int(dest)-1].append(stacks[int(source)-1].pop()) # -1 to account for 0-index Python, 1-index code\n",
    "        \n",
    "            \n",
    "readData('day05.txt')"
   ]
  },
  {
   "cell_type": "code",
   "execution_count": 17,
   "id": "953cd3b8",
   "metadata": {},
   "outputs": [
    {
     "name": "stdout",
     "output_type": "stream",
     "text": [
      "MHZJFPTPM\n"
     ]
    }
   ],
   "source": [
    "# Part 2\n",
    "'''\n",
    "Idea: Instead of pop/append, move chunk of list at once\n",
    "'''\n",
    "\n",
    "def getStacks(setupLines):\n",
    "    stacks = []\n",
    "    for i in range(len(setupLines)):\n",
    "        thisLine = setupLines[len(setupLines) - 1 - i]\n",
    "        assert len(thisLine) % 4 == 0\n",
    "        for j in range(len(setupLines) + 1 // 4):\n",
    "            if i == 0:\n",
    "                stacks.append([])\n",
    "            elif (thisLine[4*j+1] != \" \"): stacks[j].append(thisLine[4*j+1])\n",
    "    return stacks\n",
    "            \n",
    "def getString(stacks):\n",
    "    outputStr = \"\"\n",
    "    for i in range(len(stacks)):\n",
    "        outputStr += stacks[i].pop()\n",
    "    return outputStr\n",
    "\n",
    "def readData(filename):\n",
    "    data = open(filename, 'r')\n",
    "    setupLines = []\n",
    "    \n",
    "    stacks = 0\n",
    "    \n",
    "    # Reading setup data\n",
    "    while(1):\n",
    "        line = data.readline()\n",
    "        # print(line)\n",
    "        if line[:4] == \"\\n\":\n",
    "            stacks = getStacks(setupLines)\n",
    "            break\n",
    "        else:\n",
    "            setupLines.append(line)\n",
    "    \n",
    "    # Reading, executing commands\n",
    "    assert stacks != 0\n",
    "    while (1):\n",
    "        line = data.readline()\n",
    "        if not line: # End of file\n",
    "            print(getString(stacks))\n",
    "            return\n",
    "        parts = line.split()\n",
    "        num = parts[1]\n",
    "        source = parts[3]\n",
    "        dest = parts[5]\n",
    "        movePart = stacks[int(source)-1][len(stacks[int(source)-1]) - int(num):] # -1 to account for 0-index Python, 1-index code\n",
    "        # print(num, len(movePart))\n",
    "        # print(num, stacks[int(source) - 1], movePart)\n",
    "        # print(num)\n",
    "        # print(stacks[int(source) - 1], stacks[int(dest) - 1])\n",
    "        for i in range(len(movePart)):\n",
    "            stacks[int(source)-1].remove(movePart[i])\n",
    "            stacks[int(dest)-1].append(movePart[i])\n",
    "        # print(stacks[int(source) - 1], stacks[int(dest) - 1])\n",
    "        # print()\n",
    "        # print()\n",
    "            \n",
    "            \n",
    "readData('day05.txt')"
   ]
  }
 ],
 "metadata": {
  "kernelspec": {
   "display_name": "Python 3 (ipykernel)",
   "language": "python",
   "name": "python3"
  },
  "language_info": {
   "codemirror_mode": {
    "name": "ipython",
    "version": 3
   },
   "file_extension": ".py",
   "mimetype": "text/x-python",
   "name": "python",
   "nbconvert_exporter": "python",
   "pygments_lexer": "ipython3",
   "version": "3.9.12"
  }
 },
 "nbformat": 4,
 "nbformat_minor": 5
}
